{
  "nbformat": 4,
  "nbformat_minor": 0,
  "metadata": {
    "colab": {
      "provenance": []
    },
    "kernelspec": {
      "name": "python3",
      "display_name": "Python 3"
    },
    "language_info": {
      "name": "python"
    }
  },
  "cells": [
    {
      "cell_type": "markdown",
      "source": [
        "# **Weekly Exercise 1**"
      ],
      "metadata": {
        "id": "urKEhp00v7-g"
      }
    },
    {
      "cell_type": "code",
      "execution_count": null,
      "metadata": {
        "colab": {
          "base_uri": "https://localhost:8080/"
        },
        "id": "XkFeQhNzuSbm",
        "outputId": "e712cc5d-3218-4ff6-e7b9-6d1aacdbb9c4"
      },
      "outputs": [
        {
          "output_type": "stream",
          "name": "stdout",
          "text": [
            "Masukkan umur: 19\n",
            "Boleh Membuat SIM\n"
          ]
        }
      ],
      "source": [
        "age = int(input(\"Masukkan umur: \"))\n",
        "if age >= 17:\n",
        "  print(\"Boleh Membuat SIM\")\n",
        "else:\n",
        "  print(\"Tidak Boleh Membuat SIM\")"
      ]
    },
    {
      "cell_type": "markdown",
      "source": [
        "# **Weekly Exercise 2**"
      ],
      "metadata": {
        "id": "BqDWNLeMxZc4"
      }
    },
    {
      "cell_type": "code",
      "source": [
        "nilai = int(input(\"Masukkan nilai: \"))\n",
        "if nilai >= 90:\n",
        "  grade = \"A\"\n",
        "elif nilai >= 80:\n",
        "  grade = \"B+\"\n",
        "elif nilai >= 70:\n",
        "  grade = \"B\"\n",
        "elif nilai >= 60:\n",
        "  grade = \"C+\"\n",
        "elif nilai >= 50:\n",
        "  grade = \"C\"\n",
        "elif nilai >= 40:\n",
        "  grade = \"D\"\n",
        "else :\n",
        "  grade = \"E\"\n",
        "print(\"Grade:\", grade)\n"
      ],
      "metadata": {
        "id": "1aBf0cSDv63a",
        "colab": {
          "base_uri": "https://localhost:8080/"
        },
        "outputId": "4a2952e0-c866-45c7-c8e9-b60627a86685"
      },
      "execution_count": 2,
      "outputs": [
        {
          "output_type": "stream",
          "name": "stdout",
          "text": [
            "Masukkan nilai: 89\n",
            "Grade: B+\n"
          ]
        }
      ]
    },
    {
      "cell_type": "markdown",
      "source": [
        "# **Weekly Exercise 3**"
      ],
      "metadata": {
        "id": "JZWyHO3Q5fn3"
      }
    },
    {
      "cell_type": "code",
      "source": [
        "nilai = float(input(\"Masukkan nilai: \"))\n",
        "if 80.00 <= nilai <= 100:\n",
        "  grade = \"A\"\n",
        "elif 77.50 <= nilai <= 79.99:\n",
        "  grade = \"A-\"\n",
        "elif 75.00 <= nilai <= 77.49:\n",
        "  grade = \"A/B\"\n",
        "elif 72.50 <= nilai <= 74.99:\n",
        "  grade = \"B+\"\n",
        "elif 70.00 <= nilai <= 72.49:\n",
        "  grade = \"B\"\n",
        "elif 67.50 <= nilai <= 69.99:\n",
        "  grade = \"B-\"\n",
        "elif 65.00 <= nilai <= 67.49:\n",
        "  grade = \"B/C\"\n",
        "elif 62.50 <= nilai <= 64.99:\n",
        "  grade = \"C+\"\n",
        "elif 60.00 <= nilai <= 62.49:\n",
        "  grade = \"C\"\n",
        "elif 55.00 <= nilai <= 59.99:\n",
        "  grade = \"C-\"\n",
        "elif 50.00 <= nilai <= 54.99:\n",
        "  grade = \"C/D\"\n",
        "elif 45.00 <= nilai <= 49.99:\n",
        "  grade = \"D+\"\n",
        "elif 40.00 <= nilai <= 44.99:\n",
        "  grade = \"D\"\n",
        "else :\n",
        "  grade = \"E\"\n",
        "print(\"Grade:\", grade)"
      ],
      "metadata": {
        "colab": {
          "base_uri": "https://localhost:8080/"
        },
        "id": "o6rF2pIg0eu4",
        "outputId": "18026f53-a7cf-4198-a314-3d927b5ee912"
      },
      "execution_count": null,
      "outputs": [
        {
          "output_type": "stream",
          "name": "stdout",
          "text": [
            "Masukkan nilai: 52\n",
            "Grade: C/D\n"
          ]
        }
      ]
    }
  ]
}